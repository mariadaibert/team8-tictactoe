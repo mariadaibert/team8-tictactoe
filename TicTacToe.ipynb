{
 "cells": [
  {
   "cell_type": "code",
   "execution_count": null,
   "metadata": {},
   "outputs": [],
   "source": [
    "#Importar funções\n",
    "import deu_velha\n",
    "import jogada\n",
    "import avaliar_jogada"
   ]
  },
  {
   "cell_type": "code",
   "execution_count": null,
   "metadata": {},
   "outputs": [],
   "source": [
    "# Declarar matriz do jogo\n",
    "matriz = [[100,100,100],[100,100,100],[100,100,100]]\n",
    "for linha in matriz:\n",
    "    print(linha)\n",
    "    \n",
    "#Declarar peças dos jogadores\n",
    "player1=1\n",
    "player2=20\n",
    "\n",
    "#Repetição até alguém ganhar ou dar velha\n",
    "velha=0\n",
    "while(velha==0):\n",
    "        \n",
    "    #Atualiza jogo com jogada Player1 peça:1\n",
    "    matriz = jogada.jogar(player1,matriz)      \n",
    "\n",
    "    #Testar se Player1 ganhou ou se deu velha\n",
    "    if(avaliar_jogada.avaliar(player1,matriz)==True):\n",
    "        break\n",
    "        \n",
    "    #Atualizar jogo com jogada Player2 peça:20    \n",
    "    matriz = jogada.jogar(player2,matriz)\n",
    "\n",
    "    #Testar se Player2 ganhou ou se deu velha\n",
    "    if(avaliar_jogada.avaliar(player2,matriz)==True):\n",
    "        break\n",
    "    "
   ]
  },
  {
   "cell_type": "raw",
   "metadata": {},
   "source": [
    "matriz = [[1,100,100],[2,100,100],[3,100,100]]\n",
    "zip(matriz)"
   ]
  },
  {
   "cell_type": "code",
   "execution_count": null,
   "metadata": {},
   "outputs": [],
   "source": [
    "print([sum(x) for x in zip(*matriz)])"
   ]
  },
  {
   "cell_type": "code",
   "execution_count": 52,
   "metadata": {},
   "outputs": [
    {
     "name": "stdout",
     "output_type": "stream",
     "text": [
      "[201, 202, 203]\n",
      "[6, 300, 300]\n",
      "Yes\n"
     ]
    }
   ],
   "source": [
    "soma_linhas=[sum(x) for x in matriz]\n",
    "soma_colunas=[sum(x) for x in zip(*matriz)]\n",
    "soma_dia1 = sum(matriz[i][i] for i in range(3))\n",
    "soma_dia2 = sum(matriz[i][3-i-1] for i in range(3))\n",
    "print(soma_linhas)\n",
    "print(soma_colunas)\n",
    "if 6 in soma_colunas:\n",
    "    print (\"Yes\")"
   ]
  },
  {
   "cell_type": "code",
   "execution_count": 44,
   "metadata": {},
   "outputs": [
    {
     "name": "stdout",
     "output_type": "stream",
     "text": [
      "203\n"
     ]
    }
   ],
   "source": [
    "soma_dia2 = sum(matriz[i][3-i-1] for i in range(3))\n",
    "print(soma_dia2)"
   ]
  },
  {
   "cell_type": "code",
   "execution_count": 37,
   "metadata": {},
   "outputs": [
    {
     "data": {
      "text/plain": [
       "range(0, 3)"
      ]
     },
     "execution_count": 37,
     "metadata": {},
     "output_type": "execute_result"
    }
   ],
   "source": [
    "range(n)"
   ]
  },
  {
   "cell_type": "code",
   "execution_count": 38,
   "metadata": {},
   "outputs": [
    {
     "name": "stdout",
     "output_type": "stream",
     "text": [
      "0\n",
      "1\n",
      "2\n"
     ]
    }
   ],
   "source": [
    "for i in range(n):\n",
    "    print (i)"
   ]
  },
  {
   "cell_type": "code",
   "execution_count": 40,
   "metadata": {},
   "outputs": [
    {
     "data": {
      "text/plain": [
       "3"
      ]
     },
     "execution_count": 40,
     "metadata": {},
     "output_type": "execute_result"
    }
   ],
   "source": [
    "matriz[2][0]"
   ]
  },
  {
   "cell_type": "code",
   "execution_count": null,
   "metadata": {},
   "outputs": [],
   "source": []
  }
 ],
 "metadata": {
  "kernelspec": {
   "display_name": "Python 3",
   "language": "python",
   "name": "python3"
  },
  "language_info": {
   "codemirror_mode": {
    "name": "ipython",
    "version": 3
   },
   "file_extension": ".py",
   "mimetype": "text/x-python",
   "name": "python",
   "nbconvert_exporter": "python",
   "pygments_lexer": "ipython3",
   "version": "3.7.3"
  }
 },
 "nbformat": 4,
 "nbformat_minor": 4
}
