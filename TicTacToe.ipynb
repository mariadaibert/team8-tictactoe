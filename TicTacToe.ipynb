{
 "cells": [
  {
   "cell_type": "code",
   "execution_count": 9,
   "metadata": {},
   "outputs": [
    {
     "name": "stdout",
     "output_type": "stream",
     "text": [
      "[100, 100, 100]\n",
      "[100, 100, 100]\n",
      "[100, 100, 100]\n"
     ]
    },
    {
     "name": "stdin",
     "output_type": "stream",
     "text": [
      "Player 1 - Linha: 1\n",
      "Player 1 - Coluna: 3\n"
     ]
    },
    {
     "name": "stdout",
     "output_type": "stream",
     "text": [
      "[100, 100, 1]\n",
      "[100, 100, 100]\n",
      "[100, 100, 100]\n"
     ]
    },
    {
     "name": "stdin",
     "output_type": "stream",
     "text": [
      "Player 2 - Linha: 1\n",
      "Player 2 - Coluna: 3\n"
     ]
    },
    {
     "name": "stdout",
     "output_type": "stream",
     "text": [
      "Jogada inválida. Tente novamente\n"
     ]
    },
    {
     "name": "stdin",
     "output_type": "stream",
     "text": [
      "Player 2 - Linha: 2\n",
      "Player 2 - Coluna: 2\n"
     ]
    },
    {
     "name": "stdout",
     "output_type": "stream",
     "text": [
      "[100, 100, 1]\n",
      "[100, 2, 100]\n",
      "[100, 100, 100]\n"
     ]
    },
    {
     "name": "stdin",
     "output_type": "stream",
     "text": [
      "Player 1 - Linha: 1\n",
      "Player 1 - Coluna: 2\n"
     ]
    },
    {
     "name": "stdout",
     "output_type": "stream",
     "text": [
      "[100, 1, 1]\n",
      "[100, 2, 100]\n",
      "[100, 100, 100]\n"
     ]
    },
    {
     "name": "stdin",
     "output_type": "stream",
     "text": [
      "Player 2 - Linha: 1\n",
      "Player 2 - Coluna: 1\n"
     ]
    },
    {
     "name": "stdout",
     "output_type": "stream",
     "text": [
      "[2, 1, 1]\n",
      "[100, 2, 100]\n",
      "[100, 100, 100]\n"
     ]
    },
    {
     "name": "stdin",
     "output_type": "stream",
     "text": [
      "Player 1 - Linha: 2\n",
      "Player 1 - Coluna: 1\n"
     ]
    },
    {
     "name": "stdout",
     "output_type": "stream",
     "text": [
      "[2, 1, 1]\n",
      "[1, 2, 100]\n",
      "[100, 100, 100]\n"
     ]
    },
    {
     "name": "stdin",
     "output_type": "stream",
     "text": [
      "Player 2 - Linha: 3\n",
      "Player 2 - Coluna: 3\n"
     ]
    },
    {
     "name": "stdout",
     "output_type": "stream",
     "text": [
      "[2, 1, 1]\n",
      "[1, 2, 100]\n",
      "[100, 100, 2]\n"
     ]
    },
    {
     "ename": "KeyboardInterrupt",
     "evalue": "",
     "output_type": "error",
     "traceback": [
      "\u001b[0;31m---------------------------------------------------------------------------\u001b[0m",
      "\u001b[0;31mKeyboardInterrupt\u001b[0m                         Traceback (most recent call last)",
      "\u001b[0;32m/srv/conda/envs/notebook/lib/python3.7/site-packages/ipykernel/kernelbase.py\u001b[0m in \u001b[0;36m_input_request\u001b[0;34m(self, prompt, ident, parent, password)\u001b[0m\n\u001b[1;32m    884\u001b[0m             \u001b[0;32mtry\u001b[0m\u001b[0;34m:\u001b[0m\u001b[0;34m\u001b[0m\u001b[0;34m\u001b[0m\u001b[0m\n\u001b[0;32m--> 885\u001b[0;31m                 \u001b[0mident\u001b[0m\u001b[0;34m,\u001b[0m \u001b[0mreply\u001b[0m \u001b[0;34m=\u001b[0m \u001b[0mself\u001b[0m\u001b[0;34m.\u001b[0m\u001b[0msession\u001b[0m\u001b[0;34m.\u001b[0m\u001b[0mrecv\u001b[0m\u001b[0;34m(\u001b[0m\u001b[0mself\u001b[0m\u001b[0;34m.\u001b[0m\u001b[0mstdin_socket\u001b[0m\u001b[0;34m,\u001b[0m \u001b[0;36m0\u001b[0m\u001b[0;34m)\u001b[0m\u001b[0;34m\u001b[0m\u001b[0;34m\u001b[0m\u001b[0m\n\u001b[0m\u001b[1;32m    886\u001b[0m             \u001b[0;32mexcept\u001b[0m \u001b[0mException\u001b[0m\u001b[0;34m:\u001b[0m\u001b[0;34m\u001b[0m\u001b[0;34m\u001b[0m\u001b[0m\n",
      "\u001b[0;32m/srv/conda/envs/notebook/lib/python3.7/site-packages/jupyter_client/session.py\u001b[0m in \u001b[0;36mrecv\u001b[0;34m(self, socket, mode, content, copy)\u001b[0m\n\u001b[1;32m    802\u001b[0m         \u001b[0;32mtry\u001b[0m\u001b[0;34m:\u001b[0m\u001b[0;34m\u001b[0m\u001b[0;34m\u001b[0m\u001b[0m\n\u001b[0;32m--> 803\u001b[0;31m             \u001b[0mmsg_list\u001b[0m \u001b[0;34m=\u001b[0m \u001b[0msocket\u001b[0m\u001b[0;34m.\u001b[0m\u001b[0mrecv_multipart\u001b[0m\u001b[0;34m(\u001b[0m\u001b[0mmode\u001b[0m\u001b[0;34m,\u001b[0m \u001b[0mcopy\u001b[0m\u001b[0;34m=\u001b[0m\u001b[0mcopy\u001b[0m\u001b[0;34m)\u001b[0m\u001b[0;34m\u001b[0m\u001b[0;34m\u001b[0m\u001b[0m\n\u001b[0m\u001b[1;32m    804\u001b[0m         \u001b[0;32mexcept\u001b[0m \u001b[0mzmq\u001b[0m\u001b[0;34m.\u001b[0m\u001b[0mZMQError\u001b[0m \u001b[0;32mas\u001b[0m \u001b[0me\u001b[0m\u001b[0;34m:\u001b[0m\u001b[0;34m\u001b[0m\u001b[0;34m\u001b[0m\u001b[0m\n",
      "\u001b[0;32m/srv/conda/envs/notebook/lib/python3.7/site-packages/zmq/sugar/socket.py\u001b[0m in \u001b[0;36mrecv_multipart\u001b[0;34m(self, flags, copy, track)\u001b[0m\n\u001b[1;32m    469\u001b[0m         \"\"\"\n\u001b[0;32m--> 470\u001b[0;31m         \u001b[0mparts\u001b[0m \u001b[0;34m=\u001b[0m \u001b[0;34m[\u001b[0m\u001b[0mself\u001b[0m\u001b[0;34m.\u001b[0m\u001b[0mrecv\u001b[0m\u001b[0;34m(\u001b[0m\u001b[0mflags\u001b[0m\u001b[0;34m,\u001b[0m \u001b[0mcopy\u001b[0m\u001b[0;34m=\u001b[0m\u001b[0mcopy\u001b[0m\u001b[0;34m,\u001b[0m \u001b[0mtrack\u001b[0m\u001b[0;34m=\u001b[0m\u001b[0mtrack\u001b[0m\u001b[0;34m)\u001b[0m\u001b[0;34m]\u001b[0m\u001b[0;34m\u001b[0m\u001b[0;34m\u001b[0m\u001b[0m\n\u001b[0m\u001b[1;32m    471\u001b[0m         \u001b[0;31m# have first part already, only loop while more to receive\u001b[0m\u001b[0;34m\u001b[0m\u001b[0;34m\u001b[0m\u001b[0;34m\u001b[0m\u001b[0m\n",
      "\u001b[0;32mzmq/backend/cython/socket.pyx\u001b[0m in \u001b[0;36mzmq.backend.cython.socket.Socket.recv\u001b[0;34m()\u001b[0m\n",
      "\u001b[0;32mzmq/backend/cython/socket.pyx\u001b[0m in \u001b[0;36mzmq.backend.cython.socket.Socket.recv\u001b[0;34m()\u001b[0m\n",
      "\u001b[0;32mzmq/backend/cython/socket.pyx\u001b[0m in \u001b[0;36mzmq.backend.cython.socket._recv_copy\u001b[0;34m()\u001b[0m\n",
      "\u001b[0;32m/srv/conda/envs/notebook/lib/python3.7/site-packages/zmq/backend/cython/checkrc.pxd\u001b[0m in \u001b[0;36mzmq.backend.cython.checkrc._check_rc\u001b[0;34m()\u001b[0m\n",
      "\u001b[0;31mKeyboardInterrupt\u001b[0m: ",
      "\nDuring handling of the above exception, another exception occurred:\n",
      "\u001b[0;31mKeyboardInterrupt\u001b[0m                         Traceback (most recent call last)",
      "\u001b[0;32m<ipython-input-9-e9d8ac320517>\u001b[0m in \u001b[0;36m<module>\u001b[0;34m\u001b[0m\n\u001b[1;32m     16\u001b[0m     \u001b[0minv\u001b[0m\u001b[0;34m=\u001b[0m\u001b[0;36m1\u001b[0m\u001b[0;34m\u001b[0m\u001b[0;34m\u001b[0m\u001b[0m\n\u001b[1;32m     17\u001b[0m     \u001b[0;32mwhile\u001b[0m\u001b[0;34m(\u001b[0m\u001b[0minv\u001b[0m\u001b[0;34m==\u001b[0m\u001b[0;36m1\u001b[0m\u001b[0;34m)\u001b[0m\u001b[0;34m:\u001b[0m\u001b[0;34m\u001b[0m\u001b[0;34m\u001b[0m\u001b[0m\n\u001b[0;32m---> 18\u001b[0;31m         \u001b[0mx\u001b[0m\u001b[0;34m=\u001b[0m\u001b[0mint\u001b[0m\u001b[0;34m(\u001b[0m\u001b[0minput\u001b[0m\u001b[0;34m(\u001b[0m\u001b[0;34m\"Player 1 - Linha:\"\u001b[0m\u001b[0;34m)\u001b[0m\u001b[0;34m)\u001b[0m\u001b[0;34m\u001b[0m\u001b[0;34m\u001b[0m\u001b[0m\n\u001b[0m\u001b[1;32m     19\u001b[0m         \u001b[0my\u001b[0m\u001b[0;34m=\u001b[0m\u001b[0mint\u001b[0m\u001b[0;34m(\u001b[0m\u001b[0minput\u001b[0m\u001b[0;34m(\u001b[0m\u001b[0;34m\"Player 1 - Coluna:\"\u001b[0m\u001b[0;34m)\u001b[0m\u001b[0;34m)\u001b[0m\u001b[0;34m\u001b[0m\u001b[0;34m\u001b[0m\u001b[0m\n\u001b[1;32m     20\u001b[0m         \u001b[0;32mif\u001b[0m\u001b[0;34m(\u001b[0m\u001b[0mmatriz\u001b[0m\u001b[0;34m[\u001b[0m\u001b[0mx\u001b[0m\u001b[0;34m-\u001b[0m\u001b[0;36m1\u001b[0m\u001b[0;34m]\u001b[0m\u001b[0;34m[\u001b[0m\u001b[0my\u001b[0m\u001b[0;34m-\u001b[0m\u001b[0;36m1\u001b[0m\u001b[0;34m]\u001b[0m\u001b[0;34m==\u001b[0m\u001b[0;36m100\u001b[0m\u001b[0;34m)\u001b[0m\u001b[0;34m:\u001b[0m\u001b[0;34m\u001b[0m\u001b[0;34m\u001b[0m\u001b[0m\n",
      "\u001b[0;32m/srv/conda/envs/notebook/lib/python3.7/site-packages/ipykernel/kernelbase.py\u001b[0m in \u001b[0;36mraw_input\u001b[0;34m(self, prompt)\u001b[0m\n\u001b[1;32m    858\u001b[0m             \u001b[0mself\u001b[0m\u001b[0;34m.\u001b[0m\u001b[0m_parent_ident\u001b[0m\u001b[0;34m,\u001b[0m\u001b[0;34m\u001b[0m\u001b[0;34m\u001b[0m\u001b[0m\n\u001b[1;32m    859\u001b[0m             \u001b[0mself\u001b[0m\u001b[0;34m.\u001b[0m\u001b[0m_parent_header\u001b[0m\u001b[0;34m,\u001b[0m\u001b[0;34m\u001b[0m\u001b[0;34m\u001b[0m\u001b[0m\n\u001b[0;32m--> 860\u001b[0;31m             \u001b[0mpassword\u001b[0m\u001b[0;34m=\u001b[0m\u001b[0;32mFalse\u001b[0m\u001b[0;34m,\u001b[0m\u001b[0;34m\u001b[0m\u001b[0;34m\u001b[0m\u001b[0m\n\u001b[0m\u001b[1;32m    861\u001b[0m         )\n\u001b[1;32m    862\u001b[0m \u001b[0;34m\u001b[0m\u001b[0m\n",
      "\u001b[0;32m/srv/conda/envs/notebook/lib/python3.7/site-packages/ipykernel/kernelbase.py\u001b[0m in \u001b[0;36m_input_request\u001b[0;34m(self, prompt, ident, parent, password)\u001b[0m\n\u001b[1;32m    888\u001b[0m             \u001b[0;32mexcept\u001b[0m \u001b[0mKeyboardInterrupt\u001b[0m\u001b[0;34m:\u001b[0m\u001b[0;34m\u001b[0m\u001b[0;34m\u001b[0m\u001b[0m\n\u001b[1;32m    889\u001b[0m                 \u001b[0;31m# re-raise KeyboardInterrupt, to truncate traceback\u001b[0m\u001b[0;34m\u001b[0m\u001b[0;34m\u001b[0m\u001b[0;34m\u001b[0m\u001b[0m\n\u001b[0;32m--> 890\u001b[0;31m                 \u001b[0;32mraise\u001b[0m \u001b[0mKeyboardInterrupt\u001b[0m\u001b[0;34m\u001b[0m\u001b[0;34m\u001b[0m\u001b[0m\n\u001b[0m\u001b[1;32m    891\u001b[0m             \u001b[0;32melse\u001b[0m\u001b[0;34m:\u001b[0m\u001b[0;34m\u001b[0m\u001b[0;34m\u001b[0m\u001b[0m\n\u001b[1;32m    892\u001b[0m                 \u001b[0;32mbreak\u001b[0m\u001b[0;34m\u001b[0m\u001b[0;34m\u001b[0m\u001b[0m\n",
      "\u001b[0;31mKeyboardInterrupt\u001b[0m: "
     ]
    }
   ],
   "source": [
    "### Declarar matriz do jogo\n",
    "matriz = [[100,100,100],[100,100,100],[100,100,100]]\n",
    "\n",
    "#Repetição até alguém ganhar ou dar velha\n",
    "velha=0\n",
    "while(velha==0):\n",
    "    \n",
    "    for linha in matriz:\n",
    "        print(linha)\n",
    "\n",
    "    #Atualizar jogo com jogada Player1 peça:1    \n",
    "    if(sum(matriz[0])+sum(matriz[1])+sum(matriz[2])<100):\n",
    "        print(\"Deu velha!\")\n",
    "        break\n",
    "        \n",
    "    inv=1\n",
    "    while(inv==1):\n",
    "        x=int(input(\"Player 1 - Linha:\"))\n",
    "        y=int(input(\"Player 1 - Coluna:\"))\n",
    "        if(matriz[x-1][y-1]==100):\n",
    "            matriz[x-1][y-1]=1\n",
    "            inv=0\n",
    "        else:\n",
    "            print(\"Jogada inválida. Tente novamente\")\n",
    "        \n",
    "        \n",
    "\n",
    "    #Testar se Player1 ganhou \n",
    "    i=0\n",
    "    while(i<3):\n",
    "        if(sum(matriz[i])==3):\n",
    "            print(\"Player 1 ganhou. Linha\",i+1)\n",
    "            velha=1\n",
    "            break\n",
    "        else:\n",
    "            j=0\n",
    "            col=0\n",
    "            dia1=0\n",
    "            dia2=0\n",
    "            while(j<3):\n",
    "                if(i==j):\n",
    "                    dia1=dia1+matriz[i][j]  \n",
    "                if(i+j==2):\n",
    "                    dia2=dia2+matriz[i][j]\n",
    "                col=col+matriz[j][i]\n",
    "                j=j+1\n",
    "\n",
    "            if(dia1==3):\n",
    "                print(\"Player 1 ganhou. Diagonal Principal\")\n",
    "                velha=1\n",
    "                break\n",
    "            elif(dia2==3):\n",
    "                print(\"Player 1 ganhou. Diagonal Secundária\")\n",
    "                velha=1\n",
    "                break\n",
    "            elif(col==3):\n",
    "                print(\"Player 1 ganhou. Coluna\",i+1)\n",
    "                velha=1\n",
    "                break\n",
    "        i=i+1\n",
    "\n",
    "\n",
    "    for linha in matriz:\n",
    "        print(linha)\n",
    "        \n",
    "    #Atualizar jogo com jogada Player2 peça:2\n",
    "    if(sum(matriz[0])+sum(matriz[1])+sum(matriz[2])<100):\n",
    "        print(\"Deu velha!\")\n",
    "        break\n",
    "        \n",
    "    inv=1\n",
    "    while(inv==1):\n",
    "        x=int(input(\"Player 2 - Linha:\"))\n",
    "        y=int(input(\"Player 2 - Coluna:\"))\n",
    "        if(matriz[x-1][y-1]==100):\n",
    "            matriz[x-1][y-1]=2\n",
    "            inv=0\n",
    "        else:\n",
    "            print(\"Jogada inválida. Tente novamente\")\n",
    "\n",
    "    #Testar se Player2 ganhou\n",
    "    i=0\n",
    "    while(i<3):\n",
    "        if(sum(matriz[i])==6):\n",
    "            print(\"Player 2 ganhou. Linha\",i+1)\n",
    "            velha=1\n",
    "            break\n",
    "        else:\n",
    "            j=0\n",
    "            col=0\n",
    "            dia1=0\n",
    "            dia2=0\n",
    "            while(j<3):\n",
    "                if(i==j):\n",
    "                    dia1=dia1+matriz[i][j]  \n",
    "                if(i+j==2):\n",
    "                    dia2=dia2+matriz[i][j]\n",
    "                col=col+matriz[j][i]\n",
    "                j=j+1\n",
    "\n",
    "            if(dia1==6):\n",
    "                print(\"Player 2 ganhou. Diagonal Principal\")\n",
    "                velha=1\n",
    "                break\n",
    "            elif(dia2==6):\n",
    "                print(\"Player 2 ganhou. Diagonal Secundária\")\n",
    "                velha=1\n",
    "                break\n",
    "            elif(col==6):\n",
    "                print(\"Player 2 ganhou. Coluna\",i+1)\n",
    "                velha=1\n",
    "                break\n",
    "        i=i+1"
   ]
  },
  {
   "cell_type": "code",
   "execution_count": 17,
   "metadata": {},
   "outputs": [
    {
     "name": "stdout",
     "output_type": "stream",
     "text": [
      "[100, 100, 2]\n",
      "[100, 2, 100]\n",
      "[2, 100, 100]\n",
      "0 , 0\n",
      "dia2= 0\n",
      "0 , 1\n",
      "dia2= 0\n",
      "0 , 2\n",
      "dia2= 0\n",
      "1 , 0\n",
      "dia2= 0\n",
      "1 , 1\n",
      "dia2= 0\n",
      "1 , 2\n",
      "dia2= 2\n",
      "2 , 0\n",
      "dia2= 0\n",
      "2 , 1\n",
      "dia2= 2\n",
      "2 , 2\n",
      "dia2= 2\n"
     ]
    }
   ],
   "source": [
    "matriz = [[100,100,2],[100,2,100],[2,100,100]]\n",
    "for linha in matriz:\n",
    "    print(linha)\n",
    "    \n",
    "i=0\n",
    "while(i<3):\n",
    "    if(sum(matriz[i])==6):\n",
    "        print(\"Player 2 ganhou. Linha\",i+1)\n",
    "        velha=1\n",
    "        break\n",
    "    else:\n",
    "        j=0\n",
    "        col=0\n",
    "        dia1=0\n",
    "        dia2=0\n",
    "        while(j<3):\n",
    "            print(i,\",\",j)\n",
    "            print(\"dia2=\",dia2)\n",
    "            if(i==j):\n",
    "                dia1=dia1+matriz[i][j]  \n",
    "            if(i+j==2):\n",
    "                dia2=dia2+matriz[i][j]\n",
    "            col=col+matriz[j][i]\n",
    "            j=j+1\n",
    "\n",
    "        if(dia1==6):\n",
    "            print(\"Player 2 ganhou. Diagonal Principal\")\n",
    "            velha=1\n",
    "            break\n",
    "        elif(dia2==6):\n",
    "            print(\"Player 2 ganhou. Diagonal Secundária\")\n",
    "            velha=1\n",
    "            break\n",
    "        elif(col==6):\n",
    "            print(\"Player 2 ganhou. Coluna\",i+1)\n",
    "            velha=1\n",
    "            break\n",
    "    i=i+1"
   ]
  },
  {
   "cell_type": "code",
   "execution_count": null,
   "metadata": {},
   "outputs": [],
   "source": []
  }
 ],
 "metadata": {
  "kernelspec": {
   "display_name": "Python 3",
   "language": "python",
   "name": "python3"
  },
  "language_info": {
   "codemirror_mode": {
    "name": "ipython",
    "version": 3
   },
   "file_extension": ".py",
   "mimetype": "text/x-python",
   "name": "python",
   "nbconvert_exporter": "python",
   "pygments_lexer": "ipython3",
   "version": "3.7.3"
  }
 },
 "nbformat": 4,
 "nbformat_minor": 4
}
