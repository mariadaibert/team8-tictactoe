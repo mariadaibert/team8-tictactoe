{
 "cells": [
  {
   "cell_type": "code",
   "execution_count": 2,
   "metadata": {},
   "outputs": [],
   "source": [
    "#Importar funções\n",
    "import deu_velha\n",
    "import jogada"
   ]
  },
  {
   "cell_type": "code",
   "execution_count": 3,
   "metadata": {},
   "outputs": [
    {
     "name": "stdout",
     "output_type": "stream",
     "text": [
      "[100, 100, 100]\n",
      "[100, 100, 100]\n",
      "[100, 100, 100]\n",
      "Jogue, Player1\n"
     ]
    },
    {
     "name": "stdin",
     "output_type": "stream",
     "text": [
      "Linha: 1\n",
      "Coluna: 3\n"
     ]
    },
    {
     "name": "stdout",
     "output_type": "stream",
     "text": [
      "[100, 100, 1]\n",
      "[100, 100, 100]\n",
      "[100, 100, 100]\n",
      "Jogue, Player20\n"
     ]
    },
    {
     "name": "stdin",
     "output_type": "stream",
     "text": [
      "Linha: 1\n",
      "Coluna: 1\n"
     ]
    },
    {
     "name": "stdout",
     "output_type": "stream",
     "text": [
      "[20, 100, 1]\n",
      "[100, 100, 100]\n",
      "[100, 100, 100]\n",
      "Jogue, Player1\n"
     ]
    },
    {
     "name": "stdin",
     "output_type": "stream",
     "text": [
      "Linha: 3\n",
      "Coluna: 3\n"
     ]
    },
    {
     "name": "stdout",
     "output_type": "stream",
     "text": [
      "[20, 100, 1]\n",
      "[100, 100, 100]\n",
      "[100, 100, 1]\n",
      "Jogue, Player20\n"
     ]
    },
    {
     "name": "stdin",
     "output_type": "stream",
     "text": [
      "Linha: 2\n",
      "Coluna: 3\n"
     ]
    },
    {
     "name": "stdout",
     "output_type": "stream",
     "text": [
      "[20, 100, 1]\n",
      "[100, 100, 20]\n",
      "[100, 100, 1]\n",
      "Jogue, Player1\n"
     ]
    },
    {
     "name": "stdin",
     "output_type": "stream",
     "text": [
      "Linha: 3\n",
      "Coluna: 1\n"
     ]
    },
    {
     "name": "stdout",
     "output_type": "stream",
     "text": [
      "[20, 100, 1]\n",
      "[100, 100, 20]\n",
      "[1, 100, 1]\n",
      "Jogue, Player20\n"
     ]
    },
    {
     "name": "stdin",
     "output_type": "stream",
     "text": [
      "Linha: 2\n",
      "Coluna: 2\n"
     ]
    },
    {
     "name": "stdout",
     "output_type": "stream",
     "text": [
      "[20, 100, 1]\n",
      "[100, 20, 20]\n",
      "[1, 100, 1]\n",
      "Jogue, Player1\n"
     ]
    },
    {
     "name": "stdin",
     "output_type": "stream",
     "text": [
      "Linha: 3\n",
      "Coluna: 2\n"
     ]
    },
    {
     "name": "stdout",
     "output_type": "stream",
     "text": [
      "Player 1 ganhou. Linha 3\n",
      "[20, 100, 1]\n",
      "[100, 20, 20]\n",
      "[1, 1, 1]\n"
     ]
    }
   ],
   "source": [
    "## Declarar matriz do jogo\n",
    "matriz = [[100,100,100],[100,100,100],[100,100,100]]\n",
    "\n",
    "#Declarar peças dos jogadores\n",
    "player1=1\n",
    "player2=20\n",
    "\n",
    "#Repetição até alguém ganhar ou dar velha\n",
    "velha=0\n",
    "end = False\n",
    "while(velha==0):\n",
    "    \n",
    "    for linha in matriz:\n",
    "        print(linha)\n",
    "\n",
    "    #Testa se deu velha   \n",
    "    if(deu_velha.deu_velha(matriz)==True):\n",
    "        break\n",
    "        \n",
    "    #Atualiza jogo com jogada Player1 peça:1\n",
    "    matriz = jogada.jogar(player1,matriz)      \n",
    "\n",
    "    #Testar se Player1 ganhou \n",
    "    i=0\n",
    "    dia1=0\n",
    "    dia2=0\n",
    "    while(i<3):\n",
    "        if(sum(matriz[i])==3):\n",
    "            print(\"Player 1 ganhou. Linha\",i+1)\n",
    "            velha=1\n",
    "            for linha in matriz:\n",
    "                print(linha)\n",
    "            end = True\n",
    "            if end: break\n",
    "        else:\n",
    "            j=0\n",
    "            col=0\n",
    "            while(j<3):\n",
    "                if(i==j):\n",
    "                    dia1=dia1+matriz[i][j]  \n",
    "                if(i+j==2):\n",
    "                    dia2=dia2+matriz[i][j]\n",
    "                col=col+matriz[j][i]\n",
    "                j=j+1\n",
    "\n",
    "            if(dia1==3):\n",
    "                print(\"Player 1 ganhou. Diagonal Principal\")\n",
    "                velha=1\n",
    "                for linha in matriz:\n",
    "                    print(linha)\n",
    "                end = True\n",
    "                if end: break\n",
    "            elif(dia2==3):\n",
    "                print(\"Player 1 ganhou. Diagonal Secundária\")\n",
    "                velha=1\n",
    "                for linha in matriz:\n",
    "                    print(linha)\n",
    "                end = True\n",
    "                if end: break\n",
    "            elif(col==3):\n",
    "                print(\"Player 1 ganhou. Coluna\",i+1)\n",
    "                velha=1\n",
    "                for linha in matriz:\n",
    "                    print(linha)\n",
    "                end = True\n",
    "                if end: break\n",
    "        i=i+1\n",
    "\n",
    "    if end: break\n",
    "    for linha in matriz:\n",
    "        print(linha)\n",
    "        \n",
    "    #Testa se deu velha\n",
    "    if(deu_velha.deu_velha(matriz)==True):\n",
    "        break\n",
    "        \n",
    "    #Atualizar jogo com jogada Player2 peça:20    \n",
    "    matriz = jogada.jogar(player2,matriz)\n",
    "\n",
    "    #Testar se Player2 ganhou\n",
    "    i=0\n",
    "    dia1=0\n",
    "    dia2=0\n",
    "    while(i<3):\n",
    "        if(sum(matriz[i])==60):\n",
    "            print(\"Player 2 ganhou. Linha\",i+1)\n",
    "            velha=1\n",
    "            for linha in matriz:\n",
    "                print(linha)\n",
    "            end = True\n",
    "            if end: break\n",
    "        else:\n",
    "            j=0\n",
    "            col=0\n",
    "            while(j<3):\n",
    "                if(i==j):\n",
    "                    dia1=dia1+matriz[i][j]  \n",
    "                if(i+j==2):\n",
    "                    dia2=dia2+matriz[i][j]\n",
    "                col=col+matriz[j][i]\n",
    "                j=j+1\n",
    "\n",
    "            if(dia1==60):\n",
    "                print(\"Player 2 ganhou. Diagonal Principal\")\n",
    "                velha=1\n",
    "                for linha in matriz:\n",
    "                    print(linha)\n",
    "                end = True\n",
    "                if end: break\n",
    "            elif(dia2==60):\n",
    "                print(\"Player 2 ganhou. Diagonal Secundária\")\n",
    "                velha=1\n",
    "                for linha in matriz:\n",
    "                    print(linha)\n",
    "                end = True\n",
    "                if end: break\n",
    "            elif(col==60):\n",
    "                print(\"Player 2 ganhou. Coluna\",i+1)\n",
    "                velha=1\n",
    "                for linha in matriz:\n",
    "                    print(linha)\n",
    "                end = True\n",
    "                if end: break\n",
    "        i=i+1\n",
    "        if end: break"
   ]
  },
  {
   "cell_type": "code",
   "execution_count": null,
   "metadata": {},
   "outputs": [],
   "source": []
  }
 ],
 "metadata": {
  "kernelspec": {
   "display_name": "Python 3",
   "language": "python",
   "name": "python3"
  },
  "language_info": {
   "codemirror_mode": {
    "name": "ipython",
    "version": 3
   },
   "file_extension": ".py",
   "mimetype": "text/x-python",
   "name": "python",
   "nbconvert_exporter": "python",
   "pygments_lexer": "ipython3",
   "version": "3.7.3"
  }
 },
 "nbformat": 4,
 "nbformat_minor": 4
}
