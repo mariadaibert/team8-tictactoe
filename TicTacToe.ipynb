{
 "cells": [
  {
   "cell_type": "code",
   "execution_count": null,
   "metadata": {},
   "outputs": [],
   "source": [
    "#Importar funções\n",
    "import deu_velha\n",
    "import jogada\n",
    "import avaliar_jogada2"
   ]
  },
  {
   "cell_type": "code",
   "execution_count": null,
   "metadata": {},
   "outputs": [],
   "source": [
    "# Declarar matriz do jogo\n",
    "matriz = [[100,100,100],[100,100,100],[100,100,100]]\n",
    "for linha in matriz:\n",
    "    print(linha)\n",
    "    \n",
    "#Declarar peças dos jogadores\n",
    "player1=1\n",
    "player2=20\n",
    "\n",
    "#Repetição até alguém ganhar ou dar velha\n",
    "velha=0\n",
    "while(velha==0):\n",
    "        \n",
    "    #Atualiza jogo com jogada Player1 peça:1\n",
    "    matriz = jogada.jogar(player1,matriz)      \n",
    "\n",
    "    #Testar se Player1 ganhou ou se deu velha\n",
    "    if(avaliar_jogada2.avaliar(player1,matriz)==True):\n",
    "        break\n",
    "        \n",
    "    #Atualizar jogo com jogada Player2 peça:20    \n",
    "    matriz = jogada.jogar(player2,matriz)\n",
    "\n",
    "    #Testar se Player2 ganhou ou se deu velha\n",
    "    if(avaliar_jogada2.avaliar(player2,matriz)==True):\n",
    "        break\n",
    "    "
   ]
  },
  {
   "cell_type": "code",
   "execution_count": null,
   "metadata": {},
   "outputs": [],
   "source": []
  }
 ],
 "metadata": {
  "kernelspec": {
   "display_name": "Python 3",
   "language": "python",
   "name": "python3"
  },
  "language_info": {
   "codemirror_mode": {
    "name": "ipython",
    "version": 3
   },
   "file_extension": ".py",
   "mimetype": "text/x-python",
   "name": "python",
   "nbconvert_exporter": "python",
   "pygments_lexer": "ipython3",
   "version": "3.7.3"
  }
 },
 "nbformat": 4,
 "nbformat_minor": 4
}
