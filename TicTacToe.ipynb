{
 "cells": [
  {
   "cell_type": "code",
   "execution_count": null,
   "metadata": {},
   "outputs": [],
   "source": [
    "#Importar funções\n",
    "import deu_velha\n",
    "import jogada\n",
    "import avaliar_jogada"
   ]
  },
  {
   "cell_type": "code",
   "execution_count": 5,
   "metadata": {},
   "outputs": [
    {
     "name": "stdout",
     "output_type": "stream",
     "text": [
      "[100, 100, 100]\n",
      "[100, 100, 100]\n",
      "[100, 100, 100]\n",
      "Jogue, Player1\n"
     ]
    },
    {
     "name": "stdin",
     "output_type": "stream",
     "text": [
      "Linha: 1\n",
      "Coluna: 3\n"
     ]
    },
    {
     "name": "stdout",
     "output_type": "stream",
     "text": [
      "[100, 100, 1]\n",
      "[100, 100, 100]\n",
      "[100, 100, 100]\n",
      "Jogue, Player20\n"
     ]
    },
    {
     "name": "stdin",
     "output_type": "stream",
     "text": [
      "Linha: 2\n",
      "Coluna: 2\n"
     ]
    },
    {
     "name": "stdout",
     "output_type": "stream",
     "text": [
      "[100, 100, 1]\n",
      "[100, 20, 100]\n",
      "[100, 100, 100]\n",
      "Jogue, Player1\n"
     ]
    },
    {
     "name": "stdin",
     "output_type": "stream",
     "text": [
      "Linha: 1\n",
      "Coluna: 2\n"
     ]
    },
    {
     "name": "stdout",
     "output_type": "stream",
     "text": [
      "[100, 1, 1]\n",
      "[100, 20, 100]\n",
      "[100, 100, 100]\n",
      "Jogue, Player20\n"
     ]
    },
    {
     "name": "stdin",
     "output_type": "stream",
     "text": [
      "Linha: 1\n",
      "Coluna: 3\n"
     ]
    },
    {
     "name": "stdout",
     "output_type": "stream",
     "text": [
      "Jogada inválida.\n",
      "Jogue, Player20\n"
     ]
    },
    {
     "name": "stdin",
     "output_type": "stream",
     "text": [
      "Linha: 3\n",
      "Coluna: 1\n"
     ]
    },
    {
     "name": "stdout",
     "output_type": "stream",
     "text": [
      "[100, 1, 1]\n",
      "[100, 20, 100]\n",
      "[20, 100, 100]\n",
      "Jogue, Player1\n"
     ]
    },
    {
     "name": "stdin",
     "output_type": "stream",
     "text": [
      "Linha: 1\n",
      "Coluna: 1\n"
     ]
    },
    {
     "name": "stdout",
     "output_type": "stream",
     "text": [
      "Player 1 ganhou. Linha1\n",
      "[1, 1, 1]\n",
      "[100, 20, 100]\n",
      "[20, 100, 100]\n"
     ]
    }
   ],
   "source": [
    "# Declarar matriz do jogo\n",
    "matriz = [[100,100,100],[100,100,100],[100,100,100]]\n",
    "for linha in matriz:\n",
    "    print(linha)\n",
    "    \n",
    "#Declarar peças dos jogadores\n",
    "player1=1\n",
    "player2=20\n",
    "\n",
    "#Repetição até alguém ganhar ou dar velha\n",
    "velha=0\n",
    "end = False\n",
    "while(velha==0):\n",
    "\n",
    "    #Testa se deu velha   \n",
    "    if(deu_velha.deu_velha(matriz)==True):\n",
    "        break\n",
    "        \n",
    "    #Atualiza jogo com jogada Player1 peça:1\n",
    "    matriz = jogada.jogar(player1,matriz)      \n",
    "\n",
    "    #Testar se Player1 ganhou \n",
    "    if(avaliar_jogada.avaliar(player1,matriz)==True):\n",
    "        break\n",
    "        \n",
    "    #Testa se deu velha\n",
    "    if(deu_velha.deu_velha(matriz)==True):\n",
    "        break\n",
    "        \n",
    "    #Atualizar jogo com jogada Player2 peça:20    \n",
    "    matriz = jogada.jogar(player2,matriz)\n",
    "\n",
    "    #Testar se Player2 ganhou\n",
    "    if(avaliar_jogada.avaliar(player2,matriz)==True):\n",
    "        break\n",
    "    "
   ]
  },
  {
   "cell_type": "code",
   "execution_count": null,
   "metadata": {},
   "outputs": [],
   "source": []
  }
 ],
 "metadata": {
  "kernelspec": {
   "display_name": "Python 3",
   "language": "python",
   "name": "python3"
  },
  "language_info": {
   "codemirror_mode": {
    "name": "ipython",
    "version": 3
   },
   "file_extension": ".py",
   "mimetype": "text/x-python",
   "name": "python",
   "nbconvert_exporter": "python",
   "pygments_lexer": "ipython3",
   "version": "3.7.3"
  }
 },
 "nbformat": 4,
 "nbformat_minor": 4
}
