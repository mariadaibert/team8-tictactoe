{
 "cells": [
  {
   "cell_type": "code",
   "execution_count": 2,
   "metadata": {},
   "outputs": [
    {
     "name": "stdout",
     "output_type": "stream",
     "text": [
      "1\n",
      "2\n",
      "3\n"
     ]
    }
   ],
   "source": [
    "#Delcarar matriz do jogo\n",
    "matriz = [[100,0,100],[100,0,100],[100,0,100]]\n",
    "\n",
    "#Repetição até alguém ganhar ou dar velha\n",
    "\n",
    "#Atualizar jogo com jogada Player1 peça:0\n",
    "\n",
    "#Testar se Player1 ganhou em alguma linha\n",
    "i=0\n",
    "while(i<3):\n",
    "    if(sum(matriz[i])==0):\n",
    "        print(\"Player 1 ganhou\")\n",
    "        break\n",
    "    else:\n",
    "        i=i+1\n",
    "        \n",
    "#Testar se Player1 ganhou em alguma coluna\n",
    "j=0\n",
    "while(j<3):\n",
    "    if(sum(matriz[:][j])==0):\n",
    "        print(\"Player 1 ganhou\")\n",
    "        break\n",
    "    else:\n",
    "        j=j+1\n",
    "        print(j)\n",
    "\n",
    "\n",
    "\n",
    "#Atualizar jogo com jogada Player2 peça:1\n",
    "\n",
    "#Testar se Player2 ganhou"
   ]
  },
  {
   "cell_type": "code",
   "execution_count": 4,
   "metadata": {},
   "outputs": [
    {
     "data": {
      "text/plain": [
       "200"
      ]
     },
     "execution_count": 4,
     "metadata": {},
     "output_type": "execute_result"
    }
   ],
   "source": [
    "sum(matriz[0])"
   ]
  },
  {
   "cell_type": "code",
   "execution_count": null,
   "metadata": {},
   "outputs": [],
   "source": []
  }
 ],
 "metadata": {
  "kernelspec": {
   "display_name": "Python 3",
   "language": "python",
   "name": "python3"
  },
  "language_info": {
   "codemirror_mode": {
    "name": "ipython",
    "version": 3
   },
   "file_extension": ".py",
   "mimetype": "text/x-python",
   "name": "python",
   "nbconvert_exporter": "python",
   "pygments_lexer": "ipython3",
   "version": "3.7.3"
  }
 },
 "nbformat": 4,
 "nbformat_minor": 4
}
