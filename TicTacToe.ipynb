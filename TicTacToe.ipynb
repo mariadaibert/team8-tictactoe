{
 "cells": [
  {
   "cell_type": "code",
   "execution_count": 9,
   "metadata": {},
   "outputs": [
    {
     "name": "stdout",
     "output_type": "stream",
     "text": [
      "[100, 100, 100]\n",
      "[100, 100, 100]\n",
      "[100, 100, 100]\n"
     ]
    },
    {
     "name": "stdin",
     "output_type": "stream",
     "text": [
      "Player 1 - Linha: 1\n",
      "Player 1 - Coluna: 3\n"
     ]
    },
    {
     "name": "stdout",
     "output_type": "stream",
     "text": [
      "[100, 100, 2]\n",
      "[100, 100, 100]\n",
      "[100, 100, 100]\n"
     ]
    },
    {
     "name": "stdin",
     "output_type": "stream",
     "text": [
      "Player 2 - Linha: 1\n",
      "Player 2 - Coluna: 1\n"
     ]
    },
    {
     "name": "stdout",
     "output_type": "stream",
     "text": [
      "[1, 100, 2]\n",
      "[100, 100, 100]\n",
      "[100, 100, 100]\n"
     ]
    },
    {
     "name": "stdin",
     "output_type": "stream",
     "text": [
      "Player 1 - Linha: 3\n",
      "Player 1 - Coluna: 3\n"
     ]
    },
    {
     "name": "stdout",
     "output_type": "stream",
     "text": [
      "[1, 100, 2]\n",
      "[100, 100, 100]\n",
      "[100, 100, 2]\n"
     ]
    },
    {
     "name": "stdin",
     "output_type": "stream",
     "text": [
      "Player 2 - Linha: 2\n",
      "Player 2 - Coluna: 3\n"
     ]
    },
    {
     "name": "stdout",
     "output_type": "stream",
     "text": [
      "[1, 100, 2]\n",
      "[100, 100, 1]\n",
      "[100, 100, 2]\n"
     ]
    },
    {
     "name": "stdin",
     "output_type": "stream",
     "text": [
      "Player 1 - Linha: 1\n",
      "Player 1 - Coluna: 2\n"
     ]
    },
    {
     "name": "stdout",
     "output_type": "stream",
     "text": [
      "[1, 2, 2]\n",
      "[100, 100, 1]\n",
      "[100, 100, 2]\n"
     ]
    },
    {
     "name": "stdin",
     "output_type": "stream",
     "text": [
      "Player 2 - Linha: 2\n",
      "Player 2 - Coluna: 1\n"
     ]
    },
    {
     "name": "stdout",
     "output_type": "stream",
     "text": [
      "[1, 2, 2]\n",
      "[1, 100, 1]\n",
      "[100, 100, 2]\n"
     ]
    },
    {
     "name": "stdin",
     "output_type": "stream",
     "text": [
      "Player 1 - Linha: 2\n",
      "Player 1 - Coluna: 2\n"
     ]
    },
    {
     "name": "stdout",
     "output_type": "stream",
     "text": [
      "[1, 2, 2]\n",
      "[1, 2, 1]\n",
      "[100, 100, 2]\n"
     ]
    },
    {
     "name": "stdin",
     "output_type": "stream",
     "text": [
      "Player 2 - Linha: 3\n",
      "Player 2 - Coluna: 1\n"
     ]
    },
    {
     "name": "stdout",
     "output_type": "stream",
     "text": [
      "Player 2 ganhou. Coluna 1\n"
     ]
    }
   ],
   "source": [
    "### Declarar matriz do jogo\n",
    "matriz = [[100,100,100],[100,100,100],[100,100,100]]\n",
    "\n",
    "#Repetição até alguém ganhar ou dar velha\n",
    "velha=0\n",
    "while(velha==0):\n",
    "    \n",
    "    for linha in matriz:\n",
    "        print(linha)\n",
    "\n",
    "    #Atualizar jogo com jogada Player1 peça:2    \n",
    "    x=int(input(\"Player 1 - Linha:\"))\n",
    "    y=int(input(\"Player 1 - Coluna:\"))\n",
    "    matriz[x-1][y-1]=2\n",
    "\n",
    "    #Testar se Player1 ganhou \n",
    "    i=0\n",
    "    while(i<3):\n",
    "        if(sum(matriz[i])==6):\n",
    "            print(\"Player 1 ganhou. Linha\",i+1)\n",
    "            velha=1\n",
    "            break\n",
    "        else:\n",
    "            j=0\n",
    "            col=0\n",
    "            dia1=0\n",
    "            dia2=0\n",
    "            while(j<3):\n",
    "                if(i==j):\n",
    "                    dia1=dia1+matriz[i][j]  \n",
    "                if(i+j==2):\n",
    "                    dia2=dia2+matriz[i][j]\n",
    "                col=col+matriz[j][i]\n",
    "                j=j+1\n",
    "\n",
    "            if(dia1==6):\n",
    "                print(\"Player 1 ganhou. Diagonal Principal\")\n",
    "                velha=1\n",
    "                break\n",
    "            elif(dia2==6):\n",
    "                print(\"Player 1 ganhou. Diagonal Secundária\")\n",
    "                velha=1\n",
    "                break\n",
    "            elif(col==6):\n",
    "                print(\"Player 1 ganhou. Coluna\",i+1)\n",
    "                velha=1\n",
    "                break\n",
    "        i=i+1\n",
    "\n",
    "\n",
    "    for linha in matriz:\n",
    "        print(linha)\n",
    "        \n",
    "    #Atualizar jogo com jogada Player2 peça:1\n",
    "    x=int(input(\"Player 2 - Linha:\"))\n",
    "    y=int(input(\"Player 2 - Coluna:\"))\n",
    "    matriz[x-1][y-1]=1\n",
    "\n",
    "    #Testar se Player2 ganhou\n",
    "    i=0\n",
    "    while(i<3):\n",
    "        if(sum(matriz[i])==3):\n",
    "            print(\"Player 2 ganhou. Linha\",i+1)\n",
    "            velha=1\n",
    "            break\n",
    "        else:\n",
    "            j=0\n",
    "            col=0\n",
    "            dia1=0\n",
    "            dia2=0\n",
    "            while(j<3):\n",
    "                if(i==j):\n",
    "                    dia1=dia1+matriz[i][j]  \n",
    "                if(i+j==2):\n",
    "                    dia2=dia2+matriz[i][j]\n",
    "                col=col+matriz[j][i]\n",
    "                j=j+1\n",
    "\n",
    "            if(dia1==3):\n",
    "                print(\"Player 2 ganhou. Diagonal Principal\")\n",
    "                velha=1\n",
    "                break\n",
    "            elif(dia2==3):\n",
    "                print(\"Player 2 ganhou. Diagonal Secundária\")\n",
    "                velha=1\n",
    "                break\n",
    "            elif(col==3):\n",
    "                print(\"Player 2 ganhou. Coluna\",i+1)\n",
    "                velha=1\n",
    "                break\n",
    "        i=i+1"
   ]
  },
  {
   "cell_type": "code",
   "execution_count": null,
   "metadata": {},
   "outputs": [],
   "source": []
  }
 ],
 "metadata": {
  "kernelspec": {
   "display_name": "Python 3",
   "language": "python",
   "name": "python3"
  },
  "language_info": {
   "codemirror_mode": {
    "name": "ipython",
    "version": 3
   },
   "file_extension": ".py",
   "mimetype": "text/x-python",
   "name": "python",
   "nbconvert_exporter": "python",
   "pygments_lexer": "ipython3",
   "version": "3.7.3"
  }
 },
 "nbformat": 4,
 "nbformat_minor": 4
}
